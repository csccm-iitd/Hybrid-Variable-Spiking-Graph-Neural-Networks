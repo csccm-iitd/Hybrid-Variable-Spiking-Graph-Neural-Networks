{
 "cells": [
  {
   "cell_type": "code",
   "execution_count": null,
   "metadata": {
    "id": "WiXjh7GYKSpr"
   },
   "outputs": [],
   "source": [
    "from os import WIFCONTINUED\n",
    "import numpy as np\n",
    "import os.path as osp\n",
    "import time\n",
    "import sklearn\n",
    "from sklearn.model_selection import train_test_split\n",
    "import torch\n",
    "import torch_geometric\n",
    "from torch import nn\n",
    "from torch_geometric.data import Data, DataLoader, DataListLoader\n",
    "from torch_geometric.utils import degree\n",
    "import torch.nn.functional as F\n",
    "from torch.nn import ModuleList, Embedding\n",
    "from torch.nn import Sequential, ReLU, Linear, GRUCell\n",
    "from torch.optim.lr_scheduler import ReduceLROnPlateau\n",
    "from torch_geometric.nn import PNAConv, BatchNorm, global_mean_pool, DataParallel\n",
    "import argparse\n",
    "import snntorch as snn"
   ]
  },
  {
   "cell_type": "code",
   "execution_count": null,
   "metadata": {
    "id": "Dg-os28O3mZB"
   },
   "outputs": [],
   "source": [
    "# Set the parameters here\n",
    "batch_size = 3\n",
    "data_path = '/content/drive/MyDrive/atomic2field-main/atomic2field-main/data/'\n",
    "input_dim = 2\n",
    "num_data = 2000\n",
    "num_layer = 14\n",
    "hidden_dim = 50\n",
    "max_degree = 4\n",
    "epoch = 250    # changed from 500\n",
    "scale_factor = 1e-6\n",
    "timesteps = 1\n",
    "\n",
    "\n",
    "if hidden_dim % 5 != 0:\n",
    "    raise Exception(\"Sorry, not available hidden dimension, need to be multiple of 5\")\n",
    "if num_layer < 1:\n",
    "    raise Exception(\"Sorry, the number of layer is not enough\")"
   ]
  },
  {
   "cell_type": "code",
   "execution_count": null,
   "metadata": {
    "id": "tmg_MprZKSjh"
   },
   "outputs": [],
   "source": [
    "class PNANet(torch.nn.Module):\n",
    "    def __init__(self):\n",
    "        super(PNANet, self).__init__()\n",
    "\n",
    "\n",
    "        aggregators = ['mean', 'min', 'max', 'std']\n",
    "        scalers = ['identity', 'amplification', 'attenuation']\n",
    "\n",
    "        self.convs = ModuleList()\n",
    "        self.batch_norms  = ModuleList()\n",
    "        self.grus = ModuleList()\n",
    "\n",
    "        # num_layer = args.num_layer\n",
    "        # input_dim = args.input_dim\n",
    "        # hidden_dim = args.hidden_dim\n",
    "\n",
    "        # Defining the layers\n",
    "\n",
    "        # Layer 1\n",
    "        self.conv1 = PNAConv(in_channels=input_dim, out_channels=hidden_dim, aggregators=aggregators, scalers=scalers, deg=deg, towers=1, pre_layers=1, post_layers=1, divide_input=False)\n",
    "        self.gru1 = GRUCell(input_dim, hidden_dim)\n",
    "        self.batch_norm1 = BatchNorm(hidden_dim)\n",
    "\n",
    "        # Layer 2\n",
    "        self.conv2 = PNAConv(in_channels=hidden_dim, out_channels=hidden_dim, aggregators=aggregators, scalers=scalers, deg=deg, towers=5, pre_layers=1, post_layers=1, divide_input=False)\n",
    "        self.gru2 = GRUCell(hidden_dim, hidden_dim)\n",
    "        self.batch_norm2 = BatchNorm(hidden_dim)\n",
    "\n",
    "        #Layer 3\n",
    "        self.conv3 = PNAConv(in_channels=hidden_dim, out_channels=hidden_dim, aggregators=aggregators, scalers=scalers, deg=deg, towers=5, pre_layers=1, post_layers=1, divide_input=False)\n",
    "        self.gru3 = GRUCell(hidden_dim, hidden_dim)\n",
    "        self.batch_norm3 = BatchNorm(hidden_dim)\n",
    "\n",
    "        #Layer 4\n",
    "        self.conv4 = PNAConv(in_channels=hidden_dim, out_channels=hidden_dim, aggregators=aggregators, scalers=scalers, deg=deg, towers=5, pre_layers=1, post_layers=1, divide_input=False)\n",
    "        self.gru4 = GRUCell(hidden_dim, hidden_dim)\n",
    "        self.batch_norm4 = BatchNorm(hidden_dim)\n",
    "\n",
    "        #Layer 5\n",
    "        self.conv5 = PNAConv(in_channels=hidden_dim, out_channels=hidden_dim, aggregators=aggregators, scalers=scalers, deg=deg, towers=5, pre_layers=1, post_layers=1, divide_input=False)\n",
    "        self.gru5 = GRUCell(hidden_dim, hidden_dim)\n",
    "        self.batch_norm5 = BatchNorm(hidden_dim)\n",
    "\n",
    "        #Layer 6\n",
    "        self.conv6 = PNAConv(in_channels=hidden_dim, out_channels=hidden_dim, aggregators=aggregators, scalers=scalers, deg=deg, towers=5, pre_layers=1, post_layers=1, divide_input=False)\n",
    "        self.gru6 = GRUCell(hidden_dim, hidden_dim)\n",
    "        self.batch_norm6 = BatchNorm(hidden_dim)\n",
    "\n",
    "        #Layer 7\n",
    "        self.conv7 = PNAConv(in_channels=hidden_dim, out_channels=hidden_dim, aggregators=aggregators, scalers=scalers, deg=deg, towers=5, pre_layers=1, post_layers=1, divide_input=False)\n",
    "        self.gru7 = GRUCell(hidden_dim, hidden_dim)\n",
    "        self.batch_norm7 = BatchNorm(hidden_dim)\n",
    "\n",
    "        #Layer 8\n",
    "        self.conv8 = PNAConv(in_channels=hidden_dim, out_channels=hidden_dim, aggregators=aggregators, scalers=scalers, deg=deg, towers=5, pre_layers=1, post_layers=1, divide_input=False)\n",
    "        self.gru8 = GRUCell(hidden_dim, hidden_dim)\n",
    "        self.batch_norm8 = BatchNorm(hidden_dim)\n",
    "\n",
    "        #Layer 9\n",
    "        self.conv9 = PNAConv(in_channels=hidden_dim, out_channels=hidden_dim, aggregators=aggregators, scalers=scalers, deg=deg, towers=5, pre_layers=1, post_layers=1, divide_input=False)\n",
    "        self.gru9 = GRUCell(hidden_dim, hidden_dim)\n",
    "        self.batch_norm9 = BatchNorm(hidden_dim)\n",
    "\n",
    "        #Layer 10\n",
    "        self.conv10 = PNAConv(in_channels=hidden_dim, out_channels=hidden_dim, aggregators=aggregators, scalers=scalers, deg=deg, towers=5, pre_layers=1, post_layers=1, divide_input=False)\n",
    "        self.gru10 = GRUCell(hidden_dim, hidden_dim)\n",
    "        self.batch_norm10 = BatchNorm(hidden_dim)\n",
    "\n",
    "        #Layer 11\n",
    "        self.conv11 = PNAConv(in_channels=hidden_dim, out_channels=hidden_dim, aggregators=aggregators, scalers=scalers, deg=deg, towers=5, pre_layers=1, post_layers=1, divide_input=False)\n",
    "        self.gru11 = GRUCell(hidden_dim, hidden_dim)\n",
    "        self.batch_norm11 = BatchNorm(hidden_dim)\n",
    "\n",
    "        #Layer 12\n",
    "        self.conv12 = PNAConv(in_channels=hidden_dim, out_channels=hidden_dim, aggregators=aggregators, scalers=scalers, deg=deg, towers=5, pre_layers=1, post_layers=1, divide_input=False)\n",
    "        self.gru12 = GRUCell(hidden_dim, hidden_dim)\n",
    "        self.batch_norm12 = BatchNorm(hidden_dim)\n",
    "\n",
    "        #Layer 13\n",
    "        self.conv13 = PNAConv(in_channels=hidden_dim, out_channels=hidden_dim, aggregators=aggregators, scalers=scalers, deg=deg, towers=5, pre_layers=1, post_layers=1, divide_input=False)\n",
    "        self.gru13 = GRUCell(hidden_dim, hidden_dim)\n",
    "        self.batch_norm13 = BatchNorm(hidden_dim)\n",
    "\n",
    "        #Layer 14\n",
    "        self.conv14 = PNAConv(in_channels=hidden_dim, out_channels=hidden_dim, aggregators=aggregators, scalers=scalers, deg=deg, towers=5, pre_layers=1, post_layers=1, divide_input=False)\n",
    "        self.gru14 = GRUCell(hidden_dim, hidden_dim)\n",
    "        self.batch_norm14 = BatchNorm(hidden_dim)\n",
    "\n",
    "        self.readout = PNAConv(in_channels=hidden_dim, out_channels=1, aggregators=aggregators, scalers=scalers, deg=deg, towers=1, pre_layers=1, post_layers=1, divide_input=False)\n",
    "\n",
    "\n",
    "    def forward(self, data):\n",
    "        x, edge_index = data.x, data.edge_index\n",
    "\n",
    "        # For Layer 1\n",
    "        y = self.conv1(x, edge_index)\n",
    "        x = self.gru1(x, y)\n",
    "        x = F.relu(self.batch_norm1(x))\n",
    "\n",
    "        # For Layer 2\n",
    "        y = self.conv2(x, edge_index)\n",
    "        x = self.gru2(x, y)\n",
    "        x = F.relu(self.batch_norm2(x))\n",
    "\n",
    "        # For Layer 3\n",
    "        y = self.conv3(x, edge_index)\n",
    "        x = self.gru3(x, y)\n",
    "        x = F.relu(self.batch_norm3(x))\n",
    "\n",
    "        # For Layer 4\n",
    "        y = self.conv4(x, edge_index)\n",
    "        x = self.gru4(x, y)\n",
    "        x = F.relu(self.batch_norm4(x))\n",
    "\n",
    "        # For Layer 5\n",
    "        y = self.conv5(x, edge_index)\n",
    "        x = self.gru5(x, y)\n",
    "        x = F.relu(self.batch_norm5(x))\n",
    "\n",
    "        # For Layer 6\n",
    "        y = self.conv6(x, edge_index)\n",
    "        x = self.gru6(x, y)\n",
    "        x = F.relu(self.batch_norm6(x))\n",
    "\n",
    "\n",
    "        # For Layer 7\n",
    "        y = self.conv7(x, edge_index)\n",
    "        x = self.gru7(x, y)\n",
    "        x = F.relu(self.batch_norm7(x))\n",
    "\n",
    "        # For Layer 8\n",
    "        y = self.conv8(x, edge_index)\n",
    "        x = self.gru8(x, y)\n",
    "        x = F.relu(self.batch_norm8(x))\n",
    "\n",
    "        # For Layer 9\n",
    "        y = self.conv9(x, edge_index)\n",
    "        x = self.gru9(x, y)\n",
    "        x = F.relu(self.batch_norm9(x))\n",
    "\n",
    "        # For Layer 10\n",
    "        y = self.conv10(x, edge_index)\n",
    "        x = self.gru10(x, y)\n",
    "        x = F.relu(self.batch_norm10(x))\n",
    "\n",
    "        # For Layer 11\n",
    "        y = self.conv11(x, edge_index)\n",
    "        x = self.gru11(x, y)\n",
    "        x = F.relu(self.batch_norm11(x))\n",
    "\n",
    "        # For Layer 12\n",
    "        y = self.conv12(x, edge_index)\n",
    "        x = self.gru12(x, y)\n",
    "        x = F.relu(self.batch_norm12(x))\n",
    "\n",
    "        # For Layer 13\n",
    "        y = self.conv13(x, edge_index)\n",
    "        x = self.gru13(x, y)\n",
    "        x = F.relu(self.batch_norm13(x))\n",
    "\n",
    "        # For Layer 14\n",
    "        y = self.conv14(x, edge_index)\n",
    "        x = self.gru14(x, y)\n",
    "        x = F.relu(self.batch_norm14(x))\n",
    "\n",
    "\n",
    "        x = self.readout(x, edge_index)\n",
    "\n",
    "        return x"
   ]
  },
  {
   "cell_type": "code",
   "execution_count": null,
   "metadata": {
    "id": "JPfN-ToLKSgj"
   },
   "outputs": [],
   "source": [
    "f1 = open(data_path + \"edge.txt\", \"r\")\n",
    "f2 = open(data_path + \"node_features.txt\", \"r\")\n",
    "f3 = open(data_path + \"node_labels_sxx.txt\", \"r\")\n",
    "lines1 = f1.readlines()\n",
    "lines2 = f2.readlines()\n",
    "lines3 = f3.readlines()"
   ]
  },
  {
   "cell_type": "code",
   "execution_count": null,
   "metadata": {
    "id": "FXkEbEyTKSdm"
   },
   "outputs": [],
   "source": [
    "data_list = []\n",
    "for i in range(550):\n",
    "    # if i % 200 == 0:\n",
    "    #     print(i, time.time() - t0)\n",
    "    node1 = [int(idx) for idx in lines1[2 * i].split()[1:]]\n",
    "    node2 = [int(idx) for idx in lines1[2 * i + 1].split()[1:]]\n",
    "    edge_index = torch.tensor([node1, node2], dtype=torch.long)\n",
    "    if input_dim == 1:\n",
    "      xs = [float(idx) for idx in lines2[i].split()[1:]]\n",
    "      node_feature = [[xs[j]] for j in range(len(xs))]\n",
    "    elif input_dim == 2:\n",
    "      xs = [float(idx) for idx in lines2[2 * i].split()[1:]]\n",
    "      ys = [float(idx) for idx in lines2[2 * i + 1].split()[1:]]\n",
    "      node_feature = [[xs[j], ys[j]] for j in range(len(xs))]\n",
    "    elif input_dim == 3:\n",
    "      xs = [float(idx) for idx in lines2[3 * i].split()[1:]]\n",
    "      ys = [float(idx) for idx in lines2[3 * i + 1].split()[1:]]\n",
    "      zs = [float(idx) for idx in lines2[3 * i + 2].split()[1:]]\n",
    "      node_feature = [[xs[j], ys[j], zs[j]] for j in range(len(xs))]\n",
    "    elif input_dim == 4:\n",
    "      xs = [float(idx) for idx in lines2[4 * i].split()[1:]]\n",
    "      ys = [float(idx) for idx in lines2[4 * i + 1].split()[1:]]\n",
    "      zs = [float(idx) for idx in lines2[4 * i + 2].split()[1:]]\n",
    "      ls = [float(idx) for idx in lines2[4 * i + 3].split()[1:]]\n",
    "      node_feature = [[xs[j], ys[j], zs[j], ls[j]] for j in range(len(xs))]\n",
    "    else:\n",
    "        raise Exception(\"Sorry, not available input dimension\")\n",
    "\n",
    "    x = torch.tensor(node_feature, dtype=torch.float)\n",
    "    node_label = [float(idx) * scale_factor for idx in lines3[i].split()[1:]]\n",
    "    y = torch.tensor(node_label, dtype=torch.float)\n",
    "    data = Data(x=x, edge_index=edge_index, y=y)\n",
    "    data_list.append(data)"
   ]
  },
  {
   "cell_type": "code",
   "execution_count": null,
   "metadata": {
    "id": "JcR_9ymZMlqc"
   },
   "outputs": [],
   "source": [
    "test_loader = DataListLoader(torch.load(\"test_dataset.pt\",weights_only=False))"
   ]
  },
  {
   "cell_type": "code",
   "execution_count": null,
   "metadata": {
    "id": "7kHPcgRnMx5S"
   },
   "outputs": [],
   "source": [
    "deg = torch.zeros(max_degree, dtype=torch.long)\n",
    "\n",
    "for data in data_list:\n",
    "  d = degree(data.edge_index[1], num_nodes=data.num_nodes, dtype=torch.long)\n",
    "  deg += torch.bincount(d, minlength=deg.numel())\n",
    "\n",
    "device = 'cpu'\n",
    "model = PNANet().to(device)\n",
    "optimizer = torch.optim.Adam(model.parameters(), lr=1e-3)\n",
    "scheduler = torch.optim.lr_scheduler.ReduceLROnPlateau(optimizer, 'min', factor=0.5, patience=20, min_lr=-1e-5, verbose=True)\n",
    "model_parameters = filter(lambda p: p.requires_grad, model.parameters())\n",
    "params = sum([np.prod(p.size()) for p in model_parameters])"
   ]
  },
  {
   "cell_type": "code",
   "execution_count": null,
   "metadata": {
    "id": "1aD6Nm0nMx11"
   },
   "outputs": [],
   "source": [
    "# Load the model checkpoint at epoch 240\n",
    "checkpoint = torch.load('/content/drive/MyDrive/atomic2field-main/atomic2field-main/trained/240_original.pt',map_location=torch.device('cpu'))\n",
    "# print(checkpoint['model_state_dict'])\n",
    "model.load_state_dict(checkpoint['model_state_dict'])\n",
    "optimizer.load_state_dict(checkpoint['optimizer_state_dict'])\n",
    "start_epoch = checkpoint['epoch'] + 1  # Start from the next epoch"
   ]
  },
  {
   "cell_type": "code",
   "execution_count": null,
   "metadata": {
    "id": "XCb3zdH8N8V6"
   },
   "outputs": [],
   "source": [
    "# select data point\n",
    "n = 200"
   ]
  },
  {
   "cell_type": "code",
   "execution_count": null,
   "metadata": {
    "id": "2H7TC4GLPlvq"
   },
   "outputs": [],
   "source": [
    "xs_n = []\n",
    "for i in range(data_list[n].x.shape[0]):\n",
    "  xs_n.append(data_list[n].x[i][0].item())"
   ]
  },
  {
   "cell_type": "code",
   "execution_count": null,
   "metadata": {
    "id": "_lBinJbqRKSC"
   },
   "outputs": [],
   "source": [
    "# print(len(xs_n))"
   ]
  },
  {
   "cell_type": "code",
   "execution_count": null,
   "metadata": {
    "id": "2ow77i8EOCU4"
   },
   "outputs": [],
   "source": [
    "ys_n = []\n",
    "for i in range(data_list[n].x.shape[0]):\n",
    "  ys_n.append(data_list[n].x[i][1].item())"
   ]
  },
  {
   "cell_type": "code",
   "execution_count": null,
   "metadata": {
    "colab": {
     "base_uri": "https://localhost:8080/"
    },
    "id": "oBHIkpfQd9H6",
    "outputId": "9c45e495-d17e-49e3-e4f0-de5a3e53596f"
   },
   "outputs": [
    {
     "data": {
      "text/plain": [
       "tensor([2.0262, 2.8001, 3.2015,  ..., 2.5752, 1.1385, 1.4556])"
      ]
     },
     "execution_count": 259,
     "metadata": {},
     "output_type": "execute_result"
    }
   ],
   "source": [
    "data_list[n].y"
   ]
  },
  {
   "cell_type": "code",
   "execution_count": null,
   "metadata": {
    "id": "udPSkMCZd4fl"
   },
   "outputs": [],
   "source": [
    "node_y=[]\n",
    "for i in range(data_list[n].y.shape[0]):\n",
    "  node_y.append(data_list[n].y[i].item())"
   ]
  },
  {
   "cell_type": "code",
   "execution_count": null,
   "metadata": {
    "colab": {
     "base_uri": "https://localhost:8080/"
    },
    "id": "ARTI_2asMxuN",
    "outputId": "18d5f1df-e55a-45ae-ac07-33f3a24a4093"
   },
   "outputs": [],
   "source": [
    "X = np.array(xs_n)\n",
    "Y = np.array(ys_n)\n",
    "print(len(xs_n))\n",
    "print(len(ys_n))\n",
    "\n",
    "uX = np.unique(X)\n",
    "uY = np.unique(Y)\n",
    "\n",
    "print(uX)"
   ]
  },
  {
   "cell_type": "code",
   "execution_count": null,
   "metadata": {
    "id": "NP-AbSqwS5t1"
   },
   "outputs": [],
   "source": [
    "def prediction(model, dataloader, device):\n",
    "    model.eval()\n",
    "    predictions = []\n",
    "    i=0\n",
    "    with torch.no_grad():\n",
    "      for batch_idx, data_batch in enumerate(dataloader):\n",
    "            for data in data_batch:\n",
    "              if i==n:\n",
    "                pred = model(data.to(device))\n",
    "              i+=1\n",
    "    return pred"
   ]
  },
  {
   "cell_type": "code",
   "execution_count": null,
   "metadata": {
    "id": "AkKOUlK8S5qM"
   },
   "outputs": [],
   "source": [
    "predi = prediction(model, test_loader, device)"
   ]
  },
  {
   "cell_type": "code",
   "execution_count": null,
   "metadata": {
    "colab": {
     "base_uri": "https://localhost:8080/"
    },
    "id": "jyxg07ftP_AY",
    "outputId": "9a28a087-839c-41a2-aea9-4551dbf14e96"
   },
   "outputs": [],
   "source": [
    "coord_matrix = [[0 for i in range(len(uY))] for j in range(len(uX))]\n",
    "\n",
    "print(coord_matrix)"
   ]
  },
  {
   "cell_type": "code",
   "execution_count": null,
   "metadata": {
    "id": "YMVdJYElP-9C"
   },
   "outputs": [],
   "source": [
    "for i in range(len(xs_n)):\n",
    "  a = np.where(np.isclose(uX, xs_n[i],rtol=1e-05))\n",
    "  # b = uY.index(ys[i]);\n",
    "  b = np.where(np.isclose(uY, ys_n[i],rtol=1e-05))\n",
    "  # print(a[0][0]); print(b[0])\n",
    "  n1 = a[0][0]; n2=b[0][0]\n",
    "  # coord_matrix[n1][n2] = predi[0][i]\n",
    "  coord_matrix = np.array(coord_matrix)\n",
    "  if 0 <= n1 < coord_matrix.shape[0] and 0 <= n2 < coord_matrix.shape[1]:\n",
    "    # print(n1,n2,\" \")\n",
    "    coord_matrix[n1][n2] = node_y[i]\n",
    "  else:\n",
    "    print(\"Invalid indices:\", n1, n2)"
   ]
  },
  {
   "cell_type": "code",
   "execution_count": null,
   "metadata": {
    "id": "FBTSCEsPP-6K"
   },
   "outputs": [],
   "source": [
    "coord_matrix = np.array(coord_matrix, dtype=object)"
   ]
  },
  {
   "cell_type": "code",
   "execution_count": null,
   "metadata": {
    "id": "1jp65g14dUb2"
   },
   "outputs": [],
   "source": [
    "if coord_matrix.dtype == object:\n",
    "    # Convert to a suitable numeric data type (e.g., float32)\n",
    "    coord_matrix = coord_matrix.astype(np.float32)"
   ]
  },
  {
   "cell_type": "code",
   "execution_count": null,
   "metadata": {
    "colab": {
     "base_uri": "https://localhost:8080/"
    },
    "id": "-S0HI8y0dUYc",
    "outputId": "98c71f88-e583-4dab-8991-631683da1622"
   },
   "outputs": [],
   "source": [
    "print(coord_matrix)"
   ]
  },
  {
   "cell_type": "code",
   "execution_count": null,
   "metadata": {
    "id": "pEIqSKQKdUWZ"
   },
   "outputs": [],
   "source": [
    "import matplotlib.pyplot as plt"
   ]
  },
  {
   "cell_type": "code",
   "execution_count": null,
   "metadata": {
    "colab": {
     "base_uri": "https://localhost:8080/",
     "height": 422
    },
    "id": "tqXA2bOEdbq3",
    "outputId": "71e24b14-ce5b-4842-d336-91fcbbb8f557"
   },
   "outputs": [
    {
     "data": {
      "image/png": "[encoded data removed]",
      "text/plain": [
       "<Figure size 640x480 with 2 Axes>"
      ]
     },
     "metadata": {},
     "output_type": "display_data"
    }
   ],
   "source": [
    "plt.imshow(coord_matrix)\n",
    "# colorbar = plt.colorbar()\n",
    "boundaries = [-2,0,2,4,6]\n",
    "colorbar = plt.colorbar(boundaries = boundaries)\n",
    "plt.show()"
   ]
  }
 ],
 "metadata": {
  "colab": {
   "provenance": []
  },
  "kernelspec": {
   "display_name": "Python 3 (ipykernel)",
   "language": "python",
   "name": "python3"
  },
  "language_info": {
   "codemirror_mode": {
    "name": "ipython",
    "version": 3
   },
   "file_extension": ".py",
   "mimetype": "text/x-python",
   "name": "python",
   "nbconvert_exporter": "python",
   "pygments_lexer": "ipython3",
   "version": "3.9.12"
  }
 },
 "nbformat": 4,
 "nbformat_minor": 1
}
